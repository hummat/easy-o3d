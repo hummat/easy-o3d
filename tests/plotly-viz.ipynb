{
 "cells": [
  {
   "cell_type": "code",
   "execution_count": null,
   "id": "5de1e5c3",
   "metadata": {},
   "outputs": [],
   "source": [
    "import numpy as np\n",
    "from plotly import graph_objects as go, io as pio\n",
    "from plotly.subplots import make_subplots\n",
    "from easy_o3d import utils"
   ]
  },
  {
   "cell_type": "code",
   "execution_count": null,
   "id": "01a8d243",
   "metadata": {},
   "outputs": [],
   "source": [
    "source_path = \"test_data/suzanne.ply\"\n",
    "source = utils.eval_data(data=source_path, number_of_points=10000)\n",
    "\n",
    "points = np.asarray(source.points)\n",
    "x = points[:, 0]\n",
    "y = points[:, 1]\n",
    "z = points[:, 2]\n",
    "\n",
    "suzanne = go.Scatter3d(x=x,\n",
    "                       y=y,\n",
    "                       z=z,\n",
    "                       mode=\"markers\",\n",
    "                       marker=dict(size=1, color=points[:, 1], colorscale=\"blues\"),\n",
    "                       hoverinfo=\"name\",\n",
    "                       name=\"Suzanne\")"
   ]
  },
  {
   "cell_type": "code",
   "execution_count": null,
   "id": "94b72f76",
   "metadata": {},
   "outputs": [],
   "source": [
    "scene_id = 20\n",
    "path_to_scene_camera_json = \"test_data/bop_data/obj_of_interest/train_pbr/000000/scene_camera.json\"\n",
    "path_to_camera_json = \"test_data/bop_data/obj_of_interest/camera.json\"\n",
    "camera_parameters = utils.get_camera_parameters_from_blenderproc_bopwriter(path_to_scene_camera_json,\n",
    "                                                                           path_to_camera_json,\n",
    "                                                                           scene_id)[0]\n",
    "\n",
    "color = f\"test_data/bop_data/obj_of_interest/train_pbr/000000/rgb/{str(scene_id).zfill(6)}.png\"\n",
    "depth = f\"test_data/bop_data/obj_of_interest/train_pbr/000000/depth/{str(scene_id).zfill(6)}.png\"\n",
    "\n",
    "target = utils.eval_data(data=[color, depth],\n",
    "                         camera_intrinsic=camera_parameters.intrinsic,\n",
    "                         camera_extrinsic=camera_parameters.extrinsic,\n",
    "                         depth_scale=1000.0,\n",
    "                         depth_trunc=2.0)\n",
    "\n",
    "target = utils.process_point_cloud(point_cloud=target,\n",
    "                                   remove_outlier=utils.OutlierTypes.STATISTICAL,\n",
    "                                   outlier_std_ratio=10.0)"
   ]
  },
  {
   "cell_type": "code",
   "execution_count": null,
   "id": "b385d752",
   "metadata": {},
   "outputs": [],
   "source": [
    "points = np.asarray(target.points)\n",
    "x = points[:, 0]\n",
    "y = points[:, 1]\n",
    "z = points[:, 2]\n",
    "color = np.asarray(target.colors)\n",
    "\n",
    "suzanne_on_chair = go.Scatter3d(x=x,\n",
    "                                y=y,\n",
    "                                z=z,\n",
    "                                mode=\"markers\",\n",
    "                                marker=dict(size=1, color=color),\n",
    "                                hoverinfo=\"name\",\n",
    "                                name=\"Suzanne on chair\")"
   ]
  },
  {
   "cell_type": "code",
   "execution_count": null,
   "id": "374021c8",
   "metadata": {},
   "outputs": [],
   "source": [
    "fig = make_subplots(rows=1,\n",
    "                    cols=2,\n",
    "                    column_widths=[0.5, 0.5],\n",
    "                    horizontal_spacing=0,\n",
    "                    vertical_spacing=0,\n",
    "                    specs=[[dict(type='Scatter3d'), dict(type='Scatter3d')]])\n",
    "\n",
    "fig.add_trace(suzanne, row=1, col=1)\n",
    "fig.add_trace(suzanne_on_chair, row=1, col=2)\n",
    "\n",
    "fig.update_layout(scene1=dict(\n",
    "                    xaxis=dict(visible=False),\n",
    "                    yaxis=dict(visible=False),\n",
    "                    zaxis=dict(visible=False),\n",
    "                    aspectmode='data'),\n",
    "                  scene2=dict(\n",
    "                    xaxis=dict(visible=False),\n",
    "                    yaxis=dict(visible=False),\n",
    "                    zaxis=dict(visible=False),\n",
    "                    aspectmode='data'),\n",
    "                  height=500,\n",
    "                  margin=dict(r=0, l=0, b=0, t=0, pad=0),\n",
    "                  scene_dragmode='orbit',\n",
    "                  showlegend=False)"
   ]
  },
  {
   "cell_type": "code",
   "execution_count": null,
   "id": "d38d977c",
   "metadata": {},
   "outputs": [],
   "source": [
    "pio.write_html(fig,\n",
    "               file=\"test_data/test_data.html\",\n",
    "               full_html=False,\n",
    "               include_plotlyjs='cdn')"
   ]
  },
  {
   "cell_type": "code",
   "execution_count": null,
   "id": "42c62770",
   "metadata": {},
   "outputs": [],
   "source": [
    "gt_pose = utils.get_ground_truth_pose_from_file(\"test_data/ground_truth_pose.json\")\n",
    "source.transform(gt_pose)\n",
    "\n",
    "points = np.asarray(source.points)\n",
    "x = points[:, 0]\n",
    "y = points[:, 1]\n",
    "z = points[:, 2]\n",
    "\n",
    "suzanne = go.Scatter3d(x=x,\n",
    "                       y=y,\n",
    "                       z=z,\n",
    "                       mode=\"markers\",\n",
    "                       marker=dict(size=1, color=points[:, 1], colorscale=\"reds\"),\n",
    "                       hoverinfo=\"name\",\n",
    "                       name=\"Suzanne\")\n",
    "\n",
    "points = np.asarray(target.points)\n",
    "x = points[:, 0]\n",
    "y = points[:, 1]\n",
    "z = points[:, 2]\n",
    "\n",
    "suzanne_on_chair = go.Scatter3d(x=x,\n",
    "                                y=y,\n",
    "                                z=z,\n",
    "                                mode=\"markers\",\n",
    "                                marker=dict(size=1, color=points[:, 1], colorscale='greys'),\n",
    "                                hoverinfo=\"name\",\n",
    "                                name=\"Suzanne on chair\")\n",
    "\n",
    "fig = go.Figure([suzanne, suzanne_on_chair])\n",
    "fig.update_layout(scene=dict(\n",
    "                    xaxis=dict(visible=False),\n",
    "                    yaxis=dict(visible=False),\n",
    "                    zaxis=dict(visible=False),\n",
    "                    aspectmode='data'),\n",
    "                  height=500,\n",
    "                  margin=dict(r=0, l=0, b=0, t=0, pad=0),\n",
    "                  scene_dragmode=\"orbit\",\n",
    "                  showlegend=False)"
   ]
  },
  {
   "cell_type": "code",
   "execution_count": null,
   "id": "bd77f754",
   "metadata": {},
   "outputs": [],
   "source": [
    "pio.write_html(fig,\n",
    "               file=\"test_data/registration_result.html\",\n",
    "               full_html=False,\n",
    "               include_plotlyjs='cdn')"
   ]
  }
 ],
 "metadata": {
  "kernelspec": {
   "display_name": "Python 3 (ipykernel)",
   "language": "python",
   "name": "python3"
  },
  "language_info": {
   "codemirror_mode": {
    "name": "ipython",
    "version": 3
   },
   "file_extension": ".py",
   "mimetype": "text/x-python",
   "name": "python",
   "nbconvert_exporter": "python",
   "pygments_lexer": "ipython3",
   "version": "3.8.8"
  }
 },
 "nbformat": 4,
 "nbformat_minor": 5
}
