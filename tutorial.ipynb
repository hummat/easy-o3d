{
 "cells": [
  {
   "cell_type": "markdown",
   "id": "963d9db9",
   "metadata": {},
   "source": [
    "# Point cloud registration with Easy Open3D"
   ]
  },
  {
   "cell_type": "code",
   "execution_count": 1,
   "id": "53d0915f",
   "metadata": {},
   "outputs": [],
   "source": [
    "from easy_o3d import utils\n",
    "from easy_o3d.registration import IterativeClosestPoint, FastGlobalRegistration, RANSAC, ICPTypes, KernelTypes\n",
    "from easy_o3d import set_logger_level\n",
    "\n",
    "import logging\n",
    "import copy\n",
    "import open3d as o3d\n",
    "import numpy as np\n",
    "import json\n",
    "\n",
    "set_logger_level(logging.DEBUG)"
   ]
  },
  {
   "cell_type": "markdown",
   "id": "5aa69908",
   "metadata": {},
   "source": [
    "## Load and visualize point clouds"
   ]
  },
  {
   "cell_type": "code",
   "execution_count": 2,
   "id": "6df81eeb",
   "metadata": {},
   "outputs": [
    {
     "name": "stderr",
     "output_type": "stream",
     "text": [
      "DEBUG - 2021-04-23 14:40:32,420 - utils - Trying to convert mesh to point cloud.\n",
      "DEBUG - 2021-04-23 14:40:32,425 - utils - DownsampleTypes.VOXEL downsampling point cloud  with factor 0.01.\n",
      "DEBUG - 2021-04-23 14:40:32,426 - utils - Number of points before downsampling: 10000\n",
      "DEBUG - 2021-04-23 14:40:32,426 - utils - Number of points after downsampling: 1371\n",
      "DEBUG - 2021-04-23 14:40:32,427 - utils - Processing took 0.0017361640930175781 seconds.\n",
      "DEBUG - 2021-04-23 14:40:32,427 - utils - Estimating point cloud normals using method SearchParamTypes.HYBRID.\n",
      "DEBUG - 2021-04-23 14:40:32,430 - utils - Processing took 0.0031120777130126953 seconds.\n",
      "DEBUG - 2021-04-23 14:40:32,431 - utils - Computing FPFH features using method SearchParamTypes.HYBRID.\n",
      "DEBUG - 2021-04-23 14:40:32,436 - utils - Processing took 0.005790233612060547 seconds.\n",
      "DEBUG - 2021-04-23 14:40:32,437 - utils - Trying to convert mesh to point cloud.\n",
      "DEBUG - 2021-04-23 14:40:32,459 - utils - DownsampleTypes.VOXEL downsampling point cloud  with factor 0.01.\n",
      "DEBUG - 2021-04-23 14:40:32,459 - utils - Number of points before downsampling: 100000\n",
      "DEBUG - 2021-04-23 14:40:32,468 - utils - Number of points after downsampling: 31685\n",
      "DEBUG - 2021-04-23 14:40:32,468 - utils - Processing took 0.01321101188659668 seconds.\n",
      "DEBUG - 2021-04-23 14:40:32,469 - utils - Estimating point cloud normals using method SearchParamTypes.HYBRID.\n",
      "DEBUG - 2021-04-23 14:40:32,479 - utils - Processing took 0.00996708869934082 seconds.\n",
      "DEBUG - 2021-04-23 14:40:32,480 - utils - Computing FPFH features using method SearchParamTypes.HYBRID.\n",
      "DEBUG - 2021-04-23 14:40:32,569 - utils - Processing took 0.0898585319519043 seconds.\n"
     ]
    }
   ],
   "source": [
    "# Load ground truth pose\n",
    "with open(\"tests/test_data/ground_truth_pose.json\") as f:\n",
    "    gt_pose_data = json.load(f)\n",
    "rotation = gt_pose_data[\"rotation_quaternion\"]\n",
    "translation = gt_pose_data[\"translation_xyz\"]\n",
    "gt_pose = utils.get_transformation_matrix_from_quaternion(rotation_wxyz=rotation,\n",
    "                                                          translation_xyz=translation)\n",
    "\n",
    "source_path = \"tests/test_data/suzanne.ply\"\n",
    "source = utils.eval_data(data=source_path, number_of_points=10000)\n",
    "\n",
    "source = utils.process_point_cloud(point_cloud=source,\n",
    "                                   downsample=utils.DownsampleTypes.VOXEL,\n",
    "                                   downsample_factor=0.01)\n",
    "\n",
    "source = utils.process_point_cloud(point_cloud=source,\n",
    "                                   estimate_normals=True,\n",
    "                                   search_param_knn=30,\n",
    "                                   search_param_radius=0.02,\n",
    "                                   recalculate_normals=True)\n",
    "\n",
    "_, source_feature = utils.process_point_cloud(point_cloud=source,\n",
    "                                              compute_feature=True,\n",
    "                                              search_param_knn=100,\n",
    "                                              search_param_radius=0.05)\n",
    "\n",
    "target_path = \"tests/test_data/suzanne_on_chair.ply\"\n",
    "target = utils.eval_data(data=target_path, number_of_points=100000)\n",
    "\n",
    "target = utils.process_point_cloud(point_cloud=target,\n",
    "                                   downsample=utils.DownsampleTypes.VOXEL,\n",
    "                                   downsample_factor=0.01)\n",
    "\n",
    "target = utils.process_point_cloud(point_cloud=target,\n",
    "                                   estimate_normals=True,\n",
    "                                   search_param_knn=30,\n",
    "                                   search_param_radius=0.02,\n",
    "                                   recalculate_normals=True)\n",
    "\n",
    "_, target_feature = utils.process_point_cloud(point_cloud=target,\n",
    "                                              compute_feature=True,\n",
    "                                              search_param_knn=100,\n",
    "                                              search_param_radius=0.05)\n",
    "\n",
    "utils.draw_geometries(geometries=[source, target])"
   ]
  },
  {
   "cell_type": "markdown",
   "id": "1d06d469",
   "metadata": {},
   "source": [
    "## RANSAC"
   ]
  },
  {
   "cell_type": "code",
   "execution_count": 3,
   "id": "9cd600bd",
   "metadata": {},
   "outputs": [
    {
     "name": "stderr",
     "output_type": "stream",
     "text": [
      "DEBUG - 2021-04-23 14:40:34,202 - interfaces - Couldn't find data PointCloud with 1371 points. in cache. Re-evaluating.\n",
      "DEBUG - 2021-04-23 14:40:34,203 - utils - Data is point cloud. Returning.\n",
      "DEBUG - 2021-04-23 14:40:34,203 - interfaces - Couldn't find data PointCloud with 31685 points. in cache. Re-evaluating.\n",
      "DEBUG - 2021-04-23 14:40:34,203 - utils - Data is point cloud. Returning.\n",
      "DEBUG - 2021-04-23 14:40:34,280 - registration - RANSAC took 0.07818365097045898 seconds.\n",
      "DEBUG - 2021-04-23 14:40:34,281 - registration - RANSAC result: fitness=0.3952941176470588, inlier_rmse=0.008376283022820095.\n",
      "DEBUG - 2021-04-23 14:40:34,281 - interfaces - Couldn't find data PointCloud with 1371 points. in cache. Re-evaluating.\n",
      "DEBUG - 2021-04-23 14:40:34,282 - utils - Data is point cloud. Returning.\n",
      "DEBUG - 2021-04-23 14:40:34,282 - interfaces - Couldn't find data PointCloud with 31685 points. in cache. Re-evaluating.\n",
      "DEBUG - 2021-04-23 14:40:34,282 - utils - Data is point cloud. Returning.\n"
     ]
    },
    {
     "name": "stdout",
     "output_type": "stream",
     "text": [
      "0.07246334915879676\n"
     ]
    }
   ],
   "source": [
    "ransac = RANSAC()\n",
    "ransac_result = ransac.run(source=source,\n",
    "                           target=target,\n",
    "                           source_feature=source_feature,\n",
    "                           target_feature=target_feature,\n",
    "                           draw=True,\n",
    "                           overwrite_colors=True)\n",
    "\n",
    "print(np.linalg.norm(gt_pose - ransac_result.transformation))"
   ]
  },
  {
   "cell_type": "markdown",
   "id": "4563912a",
   "metadata": {},
   "source": [
    "## Fast Global Registration"
   ]
  },
  {
   "cell_type": "code",
   "execution_count": 4,
   "id": "bcd2b38c",
   "metadata": {},
   "outputs": [
    {
     "name": "stderr",
     "output_type": "stream",
     "text": [
      "DEBUG - 2021-04-23 14:40:47,294 - interfaces - Couldn't find data PointCloud with 1371 points. in cache. Re-evaluating.\n",
      "DEBUG - 2021-04-23 14:40:47,295 - utils - Data is point cloud. Returning.\n",
      "DEBUG - 2021-04-23 14:40:47,295 - interfaces - Couldn't find data PointCloud with 31685 points. in cache. Re-evaluating.\n",
      "DEBUG - 2021-04-23 14:40:47,295 - utils - Data is point cloud. Returning.\n",
      "DEBUG - 2021-04-23 14:40:47,420 - registration - FGR took 0.1257643699645996 seconds.\n",
      "DEBUG - 2021-04-23 14:40:47,421 - registration - FGR result: fitness=0.700948212983224, inlier_rmse=0.0035745115522943763.\n",
      "DEBUG - 2021-04-23 14:40:47,421 - interfaces - Couldn't find data PointCloud with 1371 points. in cache. Re-evaluating.\n",
      "DEBUG - 2021-04-23 14:40:47,422 - utils - Data is point cloud. Returning.\n",
      "DEBUG - 2021-04-23 14:40:47,422 - interfaces - Couldn't find data PointCloud with 31685 points. in cache. Re-evaluating.\n",
      "DEBUG - 2021-04-23 14:40:47,422 - utils - Data is point cloud. Returning.\n"
     ]
    },
    {
     "name": "stdout",
     "output_type": "stream",
     "text": [
      "0.06423980513009363\n"
     ]
    }
   ],
   "source": [
    "fgr = FastGlobalRegistration()\n",
    "fgr_result = fgr.run(source=source,\n",
    "                     target=target,\n",
    "                     source_feature=source_feature,\n",
    "                     target_feature=target_feature,\n",
    "                     draw=True,\n",
    "                     overwrite_colors=True)\n",
    "\n",
    "print(np.linalg.norm(gt_pose - fgr_result.transformation))"
   ]
  },
  {
   "cell_type": "markdown",
   "id": "f71dfa7c",
   "metadata": {},
   "source": [
    "## Iterative Closest Point"
   ]
  },
  {
   "cell_type": "code",
   "execution_count": 5,
   "id": "392dbfb7",
   "metadata": {},
   "outputs": [
    {
     "name": "stderr",
     "output_type": "stream",
     "text": [
      "DEBUG - 2021-04-23 14:41:12,225 - interfaces - Couldn't find data PointCloud with 1371 points. in cache. Re-evaluating.\n",
      "DEBUG - 2021-04-23 14:41:12,225 - utils - Data is point cloud. Returning.\n",
      "DEBUG - 2021-04-23 14:41:12,226 - interfaces - Couldn't find data PointCloud with 31685 points. in cache. Re-evaluating.\n",
      "DEBUG - 2021-04-23 14:41:12,226 - utils - Data is point cloud. Returning.\n",
      "DEBUG - 2021-04-23 14:41:12,294 - registration - ICP took 0.06990551948547363 seconds.\n",
      "DEBUG - 2021-04-23 14:41:12,295 - registration - ICP result: fitness=0.5178701677607586, inlier_rmse=0.0028388773817843807.\n",
      "DEBUG - 2021-04-23 14:41:12,295 - interfaces - Couldn't find data PointCloud with 1371 points. in cache. Re-evaluating.\n",
      "DEBUG - 2021-04-23 14:41:12,296 - utils - Data is point cloud. Returning.\n",
      "DEBUG - 2021-04-23 14:41:12,296 - interfaces - Couldn't find data PointCloud with 31685 points. in cache. Re-evaluating.\n",
      "DEBUG - 2021-04-23 14:41:12,296 - utils - Data is point cloud. Returning.\n"
     ]
    },
    {
     "name": "stdout",
     "output_type": "stream",
     "text": [
      "0.0036205802498571675\n"
     ]
    }
   ],
   "source": [
    "icp = IterativeClosestPoint(estimation_method=ICPTypes.PLANE)\n",
    "result = icp.run(source=source,\n",
    "                 target=target,\n",
    "                 init=ransac_result.transformation,\n",
    "                 max_iteration=100,\n",
    "                 draw=True,\n",
    "                 overwrite_colors=True)\n",
    "\n",
    "print(np.linalg.norm(gt_pose - result.transformation))"
   ]
  },
  {
   "cell_type": "markdown",
   "id": "301f4377",
   "metadata": {},
   "source": [
    "## Load camera parameters from BlenderProc BopWriter"
   ]
  },
  {
   "cell_type": "code",
   "execution_count": 6,
   "id": "5b312fc7",
   "metadata": {},
   "outputs": [],
   "source": [
    "scene_id = 2\n",
    "path_to_scene_camera_json = \"tests/test_data/bop_data/obj_of_interest/train_pbr/000000/scene_camera.json\"\n",
    "path_to_camera_json = \"tests/test_data/bop_data/obj_of_interest/camera.json\"\n",
    "output_path = \"tests/test_data\"\n",
    "\n",
    "camera_parameters = utils.get_camera_parameters_from_blenderproc_bopwriter(scene_id,\n",
    "                                                                           path_to_scene_camera_json,\n",
    "                                                                           path_to_camera_json,\n",
    "                                                                           output_path)"
   ]
  },
  {
   "cell_type": "markdown",
   "id": "ae7f8f71",
   "metadata": {},
   "source": [
    "## Load RGB-D image"
   ]
  },
  {
   "cell_type": "code",
   "execution_count": 7,
   "id": "d195c013",
   "metadata": {},
   "outputs": [
    {
     "name": "stderr",
     "output_type": "stream",
     "text": [
      "DEBUG - 2021-04-23 14:41:27,420 - utils - DownsampleTypes.VOXEL downsampling point cloud  with factor 0.01.\n",
      "DEBUG - 2021-04-23 14:41:27,420 - utils - Number of points before downsampling: 59296\n",
      "DEBUG - 2021-04-23 14:41:27,424 - utils - Number of points after downsampling: 12197\n",
      "DEBUG - 2021-04-23 14:41:27,517 - utils - Removed 95 outliers.\n",
      "DEBUG - 2021-04-23 14:41:27,518 - utils - Processing took 0.09809350967407227 seconds.\n",
      "DEBUG - 2021-04-23 14:41:27,519 - utils - Estimating point cloud normals using method SearchParamTypes.HYBRID.\n",
      "DEBUG - 2021-04-23 14:41:27,522 - utils - Processing took 0.0038962364196777344 seconds.\n",
      "DEBUG - 2021-04-23 14:41:27,523 - utils - Computing FPFH features using method SearchParamTypes.HYBRID.\n",
      "DEBUG - 2021-04-23 14:41:27,565 - utils - Processing took 0.04212665557861328 seconds.\n"
     ]
    }
   ],
   "source": [
    "camera_parameters = o3d.io.read_pinhole_camera_parameters(\"tests/test_data/camera_parameters.json\")\n",
    "color = f\"tests/test_data/bop_data/obj_of_interest/train_pbr/000000/rgb/000002.png\"\n",
    "depth = f\"tests/test_data/bop_data/obj_of_interest/train_pbr/000000/depth/000002.png\"\n",
    "\n",
    "target_rgbd = utils.convert_rgbd_image_to_point_cloud(rgbd_image_or_path=[color, depth],\n",
    "                                                      camera_intrinsic=camera_parameters.intrinsic,\n",
    "                                                      camera_extrinsic=camera_parameters.extrinsic,\n",
    "                                                      depth_scale=1000.0,\n",
    "                                                      depth_trunc=2.0)\n",
    "\n",
    "target_rgbd = utils.process_point_cloud(point_cloud=target_rgbd,\n",
    "                                        downsample=utils.DownsampleTypes.VOXEL,\n",
    "                                        downsample_factor=0.01,\n",
    "                                        remove_outlier=utils.OutlierTypes.RADIUS,\n",
    "                                        outlier_std_ratio=1.0,\n",
    "                                        search_param_knn=20,\n",
    "                                        search_param_radius=0.2)\n",
    "\n",
    "target_rgbd = utils.process_point_cloud(point_cloud=target_rgbd,\n",
    "                                        estimate_normals=True,\n",
    "                                        search_param_knn=30,\n",
    "                                        search_param_radius=0.02)\n",
    "\n",
    "_, target_rgbd_feature = utils.process_point_cloud(point_cloud=target_rgbd,\n",
    "                                                   compute_feature=True,\n",
    "                                                   search_param_knn=100,\n",
    "                                                   search_param_radius=0.05)\n",
    "\n",
    "utils.draw_geometries(geometries=[target_rgbd])"
   ]
  },
  {
   "cell_type": "markdown",
   "id": "8ea5c9c8",
   "metadata": {},
   "source": [
    "## RANSAC"
   ]
  },
  {
   "cell_type": "code",
   "execution_count": 8,
   "id": "66f38389",
   "metadata": {},
   "outputs": [
    {
     "name": "stderr",
     "output_type": "stream",
     "text": [
      "DEBUG - 2021-04-23 14:41:29,360 - interfaces - Couldn't find data PointCloud with 1371 points. in cache. Re-evaluating.\n",
      "DEBUG - 2021-04-23 14:41:29,361 - utils - Data is point cloud. Returning.\n",
      "DEBUG - 2021-04-23 14:41:29,361 - interfaces - Couldn't find data PointCloud with 12102 points. in cache. Re-evaluating.\n",
      "DEBUG - 2021-04-23 14:41:29,361 - utils - Data is point cloud. Returning.\n",
      "DEBUG - 2021-04-23 14:41:29,410 - registration - RANSAC took 0.05005502700805664 seconds.\n",
      "DEBUG - 2021-04-23 14:41:29,412 - registration - RANSAC result: fitness=0.18996415770609318, inlier_rmse=0.00904222400015424.\n",
      "DEBUG - 2021-04-23 14:41:29,412 - interfaces - Couldn't find data PointCloud with 1371 points. in cache. Re-evaluating.\n",
      "DEBUG - 2021-04-23 14:41:29,415 - utils - Data is point cloud. Returning.\n",
      "DEBUG - 2021-04-23 14:41:29,416 - interfaces - Couldn't find data PointCloud with 12102 points. in cache. Re-evaluating.\n",
      "DEBUG - 2021-04-23 14:41:29,417 - utils - Data is point cloud. Returning.\n"
     ]
    },
    {
     "name": "stdout",
     "output_type": "stream",
     "text": [
      "0.1884329898661514\n"
     ]
    }
   ],
   "source": [
    "ransac = RANSAC()\n",
    "ransac_result = ransac.run(source=source,\n",
    "                           target=target_rgbd,\n",
    "                           source_feature=source_feature,\n",
    "                           target_feature=target_rgbd_feature,\n",
    "                           draw=True,\n",
    "                           overwrite_colors=True)\n",
    "\n",
    "print(np.linalg.norm(gt_pose - ransac_result.transformation))"
   ]
  },
  {
   "cell_type": "markdown",
   "id": "25e7c1f1",
   "metadata": {},
   "source": [
    "## Fast Global Registration"
   ]
  },
  {
   "cell_type": "code",
   "execution_count": 9,
   "id": "4adfa83f",
   "metadata": {},
   "outputs": [
    {
     "name": "stderr",
     "output_type": "stream",
     "text": [
      "DEBUG - 2021-04-23 14:41:30,586 - interfaces - Couldn't find data PointCloud with 1371 points. in cache. Re-evaluating.\n",
      "DEBUG - 2021-04-23 14:41:30,586 - utils - Data is point cloud. Returning.\n",
      "DEBUG - 2021-04-23 14:41:30,586 - interfaces - Couldn't find data PointCloud with 12102 points. in cache. Re-evaluating.\n",
      "DEBUG - 2021-04-23 14:41:30,587 - utils - Data is point cloud. Returning.\n",
      "DEBUG - 2021-04-23 14:41:30,634 - registration - FGR took 0.048516035079956055 seconds.\n",
      "DEBUG - 2021-04-23 14:41:30,635 - registration - FGR result: fitness=0.18161925601750548, inlier_rmse=0.003639157060406545.\n",
      "DEBUG - 2021-04-23 14:41:30,636 - interfaces - Couldn't find data PointCloud with 1371 points. in cache. Re-evaluating.\n",
      "DEBUG - 2021-04-23 14:41:30,636 - utils - Data is point cloud. Returning.\n",
      "DEBUG - 2021-04-23 14:41:30,636 - interfaces - Couldn't find data PointCloud with 12102 points. in cache. Re-evaluating.\n",
      "DEBUG - 2021-04-23 14:41:30,637 - utils - Data is point cloud. Returning.\n"
     ]
    },
    {
     "name": "stdout",
     "output_type": "stream",
     "text": [
      "0.14847635650156613\n"
     ]
    }
   ],
   "source": [
    "fgr = FastGlobalRegistration()\n",
    "fgr_result = fgr.run(source=source,\n",
    "                     target=target_rgbd,\n",
    "                     source_feature=source_feature,\n",
    "                     target_feature=target_rgbd_feature,\n",
    "                     draw=True,\n",
    "                     overwrite_colors=True)\n",
    "\n",
    "print(np.linalg.norm(gt_pose - fgr_result.transformation))"
   ]
  },
  {
   "cell_type": "markdown",
   "id": "17357ad6",
   "metadata": {},
   "source": [
    "## Iterative Closest Point"
   ]
  },
  {
   "cell_type": "code",
   "execution_count": 10,
   "id": "310568e6",
   "metadata": {},
   "outputs": [
    {
     "name": "stderr",
     "output_type": "stream",
     "text": [
      "DEBUG - 2021-04-23 14:41:31,074 - interfaces - Couldn't find data PointCloud with 1371 points. in cache. Re-evaluating.\n",
      "DEBUG - 2021-04-23 14:41:31,075 - utils - Data is point cloud. Returning.\n",
      "DEBUG - 2021-04-23 14:41:31,075 - interfaces - Couldn't find data PointCloud with 12102 points. in cache. Re-evaluating.\n",
      "DEBUG - 2021-04-23 14:41:31,075 - utils - Data is point cloud. Returning.\n",
      "DEBUG - 2021-04-23 14:41:31,143 - registration - ICP took 0.06880807876586914 seconds.\n",
      "DEBUG - 2021-04-23 14:41:31,146 - registration - ICP result: fitness=0.274981765134938, inlier_rmse=0.0028377138444532495.\n",
      "DEBUG - 2021-04-23 14:41:31,147 - interfaces - Couldn't find data PointCloud with 1371 points. in cache. Re-evaluating.\n",
      "DEBUG - 2021-04-23 14:41:31,148 - utils - Data is point cloud. Returning.\n",
      "DEBUG - 2021-04-23 14:41:31,148 - interfaces - Couldn't find data PointCloud with 1788 points. in cache. Re-evaluating.\n",
      "DEBUG - 2021-04-23 14:41:31,149 - utils - Data is point cloud. Returning.\n"
     ]
    },
    {
     "name": "stdout",
     "output_type": "stream",
     "text": [
      "0.0038702285185791886\n"
     ]
    }
   ],
   "source": [
    "icp = IterativeClosestPoint()\n",
    "result = icp.run(source=source,\n",
    "                 target=target_rgbd,\n",
    "                 estimation_method=ICPTypes.PLANE,\n",
    "                 init=ransac_result.transformation,\n",
    "                 crop_target_around_source=True,\n",
    "                 crop_scale=1.5,\n",
    "                 max_iteration=100,\n",
    "                 max_correspondence_distance=0.004,\n",
    "                 draw=True,\n",
    "                 overwrite_colors=False)\n",
    "\n",
    "print(np.linalg.norm(gt_pose - result.transformation))"
   ]
  },
  {
   "cell_type": "code",
   "execution_count": null,
   "id": "bcb2afe5",
   "metadata": {},
   "outputs": [],
   "source": []
  },
  {
   "cell_type": "code",
   "execution_count": null,
   "id": "813807c7",
   "metadata": {},
   "outputs": [],
   "source": []
  }
 ],
 "metadata": {
  "kernelspec": {
   "display_name": "Python 3",
   "language": "python",
   "name": "python3"
  },
  "language_info": {
   "codemirror_mode": {
    "name": "ipython",
    "version": 3
   },
   "file_extension": ".py",
   "mimetype": "text/x-python",
   "name": "python",
   "nbconvert_exporter": "python",
   "pygments_lexer": "ipython3",
   "version": "3.8.8"
  }
 },
 "nbformat": 4,
 "nbformat_minor": 5
}
