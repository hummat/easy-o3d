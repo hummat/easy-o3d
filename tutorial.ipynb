{
 "cells": [
  {
   "cell_type": "markdown",
   "id": "963d9db9",
   "metadata": {},
   "source": [
    "# Point cloud registration with Easy Open3D"
   ]
  },
  {
   "cell_type": "code",
   "execution_count": 1,
   "id": "53d0915f",
   "metadata": {},
   "outputs": [],
   "source": [
    "from easy_o3d import utils\n",
    "from easy_o3d.registration import IterativeClosestPoint, FastGlobalRegistration, RANSAC, ICPTypes, KernelTypes\n",
    "from easy_o3d import set_logger_level\n",
    "\n",
    "import logging\n",
    "import copy\n",
    "import open3d as o3d\n",
    "import numpy as np\n",
    "import json\n",
    "import time\n",
    "import itertools\n",
    "import joblib\n",
    "import tqdm\n",
    "\n",
    "set_logger_level(logging.WARNING)"
   ]
  },
  {
   "cell_type": "markdown",
   "id": "5aa69908",
   "metadata": {},
   "source": [
    "## Load and visualize point clouds"
   ]
  },
  {
   "cell_type": "code",
   "execution_count": null,
   "id": "6df81eeb",
   "metadata": {},
   "outputs": [],
   "source": [
    "# Load ground truth pose\n",
    "with open(\"tests/test_data/ground_truth_pose.json\") as f:\n",
    "    gt_pose_data = json.load(f)\n",
    "rotation = gt_pose_data[\"rotation_quaternion\"]\n",
    "translation = gt_pose_data[\"translation_xyz\"]\n",
    "gt_pose = utils.get_transformation_matrix_from_quaternion(rotation_wxyz=rotation, translation_xyz=translation)\n",
    "\n",
    "source_path = \"tests/test_data/suzanne.ply\"\n",
    "source = utils.eval_data(data=source_path, number_of_points=10000)\n",
    "\n",
    "target_path = \"tests/test_data/suzanne_on_chair.ply\"\n",
    "target = utils.eval_data(data=target_path, number_of_points=100000)\n",
    "\n",
    "# utils.draw_geometries(geometries=[source, target])"
   ]
  },
  {
   "cell_type": "code",
   "execution_count": null,
   "id": "15e951bb",
   "metadata": {},
   "outputs": [],
   "source": [
    "source = utils.process_point_cloud(point_cloud=source,\n",
    "                                   downsample=utils.DownsampleTypes.VOXEL,\n",
    "                                   downsample_factor=0.01)\n",
    "\n",
    "source = utils.process_point_cloud(point_cloud=source,\n",
    "                                   estimate_normals=True,\n",
    "                                   search_param_knn=30,\n",
    "                                   search_param_radius=0.02,\n",
    "                                   recalculate_normals=True)\n",
    "\n",
    "_, source_feature = utils.process_point_cloud(point_cloud=source,\n",
    "                                              compute_feature=True,\n",
    "                                              search_param_knn=100,\n",
    "                                              search_param_radius=0.05)\n",
    "\n",
    "target = utils.process_point_cloud(point_cloud=target,\n",
    "                                   downsample=utils.DownsampleTypes.VOXEL,\n",
    "                                   downsample_factor=0.01)\n",
    "\n",
    "target = utils.process_point_cloud(point_cloud=target,\n",
    "                                   estimate_normals=True,\n",
    "                                   search_param_knn=30,\n",
    "                                   search_param_radius=0.02,\n",
    "                                   recalculate_normals=True)\n",
    "\n",
    "_, target_feature = utils.process_point_cloud(point_cloud=target,\n",
    "                                              compute_feature=True,\n",
    "                                              search_param_knn=100,\n",
    "                                              search_param_radius=0.05)"
   ]
  },
  {
   "cell_type": "markdown",
   "id": "1d06d469",
   "metadata": {},
   "source": [
    "## RANSAC"
   ]
  },
  {
   "cell_type": "code",
   "execution_count": null,
   "id": "9cd600bd",
   "metadata": {},
   "outputs": [],
   "source": [
    "ransac = RANSAC()\n",
    "ransac_result = ransac.run(source=source,\n",
    "                           target=target,\n",
    "                           source_feature=source_feature,\n",
    "                           target_feature=target_feature,\n",
    "                           draw=True,\n",
    "                           overwrite_colors=True)\n",
    "\n",
    "print(np.linalg.norm(gt_pose - ransac_result.transformation))"
   ]
  },
  {
   "cell_type": "code",
   "execution_count": null,
   "id": "be3e0cd1",
   "metadata": {},
   "outputs": [],
   "source": [
    "ransac = RANSAC()\n",
    "ransac_result = ransac.run_multi_scale(source=source,\n",
    "                                       target=target,\n",
    "                                       source_scales = [0.02, 0.01, 0.005],\n",
    "                                       iterations=[100000, 50000, 20000],\n",
    "                                       radius_multiplier=[2, 3])\n",
    "\n",
    "print(np.linalg.norm(gt_pose - ransac_result.transformation))"
   ]
  },
  {
   "cell_type": "markdown",
   "id": "4563912a",
   "metadata": {},
   "source": [
    "## Fast Global Registration"
   ]
  },
  {
   "cell_type": "code",
   "execution_count": null,
   "id": "bcd2b38c",
   "metadata": {},
   "outputs": [],
   "source": [
    "fgr = FastGlobalRegistration()\n",
    "fgr_result = fgr.run(source=source,\n",
    "                     target=target,\n",
    "                     source_feature=source_feature,\n",
    "                     target_feature=target_feature,\n",
    "                     draw=True,\n",
    "                     overwrite_colors=True)\n",
    "\n",
    "print(np.linalg.norm(gt_pose - fgr_result.transformation))"
   ]
  },
  {
   "cell_type": "code",
   "execution_count": null,
   "id": "a56fec89",
   "metadata": {},
   "outputs": [],
   "source": [
    "fgr = FastGlobalRegistration()\n",
    "fgr_result = fgr.run_multi_scale(source=source,\n",
    "                                    target=target,\n",
    "                                    source_scales = [0.02, 0.01, 0.005])\n",
    "\n",
    "print(np.linalg.norm(gt_pose - fgr_result.transformation))"
   ]
  },
  {
   "cell_type": "markdown",
   "id": "f71dfa7c",
   "metadata": {},
   "source": [
    "## Iterative Closest Point"
   ]
  },
  {
   "cell_type": "code",
   "execution_count": null,
   "id": "392dbfb7",
   "metadata": {},
   "outputs": [],
   "source": [
    "icp = IterativeClosestPoint(estimation_method=ICPTypes.PLANE)\n",
    "result = icp.run(source=source,\n",
    "                 target=target,\n",
    "                 init=ransac_result.transformation,\n",
    "                 max_iteration=100,\n",
    "                 draw=True,\n",
    "                 overwrite_colors=True)\n",
    "\n",
    "print(np.linalg.norm(gt_pose - result.transformation))"
   ]
  },
  {
   "cell_type": "code",
   "execution_count": 5,
   "id": "f9166b19",
   "metadata": {},
   "outputs": [
    {
     "name": "stdout",
     "output_type": "stream",
     "text": [
      "Took 9.997875452041626 seconds.\n"
     ]
    }
   ],
   "source": [
    "source_path = \"tests/test_data/suzanne.ply\"\n",
    "target_path = \"tests/test_data/suzanne_on_chair.ply\"\n",
    "source = utils.eval_data(source_path, number_of_points=10000)\n",
    "target = utils.eval_data(target_path, number_of_points=10000)\n",
    "source_list = [source] * 3\n",
    "target_list = [target] * 100\n",
    "\n",
    "icp = IterativeClosestPoint(max_iteration=100000, relative_rmse=1e-30, relative_fitness=1e-30)\n",
    "\n",
    "start = time.time()\n",
    "icp.run_many(source_list=source_list,\n",
    "             target_list=target_list,\n",
    "             init_list=[[0, 0, 0.5]] * 300,\n",
    "             number_of_points=10000)\n",
    "print(f\"Took {time.time() - start} seconds.\")"
   ]
  },
  {
   "cell_type": "markdown",
   "id": "301f4377",
   "metadata": {},
   "source": [
    "## Load camera parameters from BlenderProc BopWriter"
   ]
  },
  {
   "cell_type": "code",
   "execution_count": null,
   "id": "5b312fc7",
   "metadata": {},
   "outputs": [],
   "source": [
    "scene_id = 2\n",
    "path_to_scene_camera_json = \"tests/test_data/bop_data/obj_of_interest/train_pbr/000000/scene_camera.json\"\n",
    "path_to_camera_json = \"tests/test_data/bop_data/obj_of_interest/camera.json\"\n",
    "output_path = \"tests/test_data\"\n",
    "\n",
    "camera_parameters = utils.get_camera_parameters_from_blenderproc_bopwriter(scene_id,\n",
    "                                                                           path_to_scene_camera_json,\n",
    "                                                                           path_to_camera_json,\n",
    "                                                                           output_path)"
   ]
  },
  {
   "cell_type": "markdown",
   "id": "ae7f8f71",
   "metadata": {},
   "source": [
    "## Load RGB-D image"
   ]
  },
  {
   "cell_type": "code",
   "execution_count": null,
   "id": "d195c013",
   "metadata": {},
   "outputs": [],
   "source": [
    "camera_parameters = o3d.io.read_pinhole_camera_parameters(\"tests/test_data/camera_parameters.json\")\n",
    "color = f\"tests/test_data/bop_data/obj_of_interest/train_pbr/000000/rgb/000002.png\"\n",
    "depth = f\"tests/test_data/bop_data/obj_of_interest/train_pbr/000000/depth/000002.png\"\n",
    "\n",
    "target_rgbd = utils.convert_rgbd_image_to_point_cloud(rgbd_image_or_path=[color, depth],\n",
    "                                                      camera_intrinsic=camera_parameters.intrinsic,\n",
    "                                                      camera_extrinsic=camera_parameters.extrinsic,\n",
    "                                                      depth_scale=1000.0,\n",
    "                                                      depth_trunc=2.0)\n",
    "\n",
    "target_rgbd = utils.process_point_cloud(point_cloud=target_rgbd,\n",
    "                                        downsample=utils.DownsampleTypes.VOXEL,\n",
    "                                        downsample_factor=0.01,\n",
    "                                        remove_outlier=utils.OutlierTypes.RADIUS,\n",
    "                                        outlier_std_ratio=1.0,\n",
    "                                        search_param_knn=20,\n",
    "                                        search_param_radius=0.2)\n",
    "\n",
    "target_rgbd = utils.process_point_cloud(point_cloud=target_rgbd,\n",
    "                                        estimate_normals=True,\n",
    "                                        search_param_knn=30,\n",
    "                                        search_param_radius=0.02)\n",
    "\n",
    "_, target_rgbd_feature = utils.process_point_cloud(point_cloud=target_rgbd,\n",
    "                                                   compute_feature=True,\n",
    "                                                   search_param_knn=100,\n",
    "                                                   search_param_radius=0.05)\n",
    "\n",
    "utils.draw_geometries(geometries=[target_rgbd])"
   ]
  },
  {
   "cell_type": "markdown",
   "id": "8ea5c9c8",
   "metadata": {},
   "source": [
    "## RANSAC"
   ]
  },
  {
   "cell_type": "code",
   "execution_count": null,
   "id": "66f38389",
   "metadata": {},
   "outputs": [],
   "source": [
    "ransac = RANSAC()\n",
    "ransac_result = ransac.run(source=source,\n",
    "                           target=target_rgbd,\n",
    "                           source_feature=source_feature,\n",
    "                           target_feature=target_rgbd_feature,\n",
    "                           draw=True,\n",
    "                           overwrite_colors=True)\n",
    "\n",
    "print(np.linalg.norm(gt_pose - ransac_result.transformation))"
   ]
  },
  {
   "cell_type": "markdown",
   "id": "25e7c1f1",
   "metadata": {},
   "source": [
    "## Fast Global Registration"
   ]
  },
  {
   "cell_type": "code",
   "execution_count": null,
   "id": "4adfa83f",
   "metadata": {},
   "outputs": [],
   "source": [
    "fgr = FastGlobalRegistration()\n",
    "fgr_result = fgr.run(source=source,\n",
    "                     target=target_rgbd,\n",
    "                     source_feature=source_feature,\n",
    "                     target_feature=target_rgbd_feature,\n",
    "                     draw=True,\n",
    "                     overwrite_colors=True)\n",
    "\n",
    "print(np.linalg.norm(gt_pose - fgr_result.transformation))"
   ]
  },
  {
   "cell_type": "markdown",
   "id": "17357ad6",
   "metadata": {},
   "source": [
    "## Iterative Closest Point"
   ]
  },
  {
   "cell_type": "code",
   "execution_count": null,
   "id": "310568e6",
   "metadata": {},
   "outputs": [],
   "source": [
    "icp = IterativeClosestPoint()\n",
    "result = icp.run(source=source,\n",
    "                 target=target_rgbd,\n",
    "                 estimation_method=ICPTypes.PLANE,\n",
    "                 init=ransac_result.transformation,\n",
    "                 crop_target_around_source=True,\n",
    "                 crop_scale=1.5,\n",
    "                 max_iteration=100,\n",
    "                 max_correspondence_distance=0.004,\n",
    "                 draw=True,\n",
    "                 overwrite_colors=False)\n",
    "\n",
    "print(np.linalg.norm(gt_pose - result.transformation))"
   ]
  },
  {
   "cell_type": "code",
   "execution_count": null,
   "id": "bcb2afe5",
   "metadata": {},
   "outputs": [],
   "source": []
  },
  {
   "cell_type": "code",
   "execution_count": null,
   "id": "813807c7",
   "metadata": {},
   "outputs": [],
   "source": []
  }
 ],
 "metadata": {
  "kernelspec": {
   "display_name": "Python 3",
   "language": "python",
   "name": "python3"
  },
  "language_info": {
   "codemirror_mode": {
    "name": "ipython",
    "version": 3
   },
   "file_extension": ".py",
   "mimetype": "text/x-python",
   "name": "python",
   "nbconvert_exporter": "python",
   "pygments_lexer": "ipython3",
   "version": "3.8.8"
  }
 },
 "nbformat": 4,
 "nbformat_minor": 5
}
