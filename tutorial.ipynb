{
 "cells": [
  {
   "cell_type": "markdown",
   "id": "963d9db9",
   "metadata": {},
   "source": [
    "# Point cloud registration with RMC-Open3D"
   ]
  },
  {
   "cell_type": "code",
   "execution_count": 1,
   "id": "53d0915f",
   "metadata": {},
   "outputs": [],
   "source": [
    "from rmc_open3d import utils\n",
    "from rmc_open3d.icp import ICP\n",
    "\n",
    "import logging\n",
    "import open3d as o3d\n",
    "import numpy as np\n",
    "import json"
   ]
  },
  {
   "cell_type": "markdown",
   "id": "f82c2561",
   "metadata": {},
   "source": [
    "## Load camera parameters from BlenderProc BopWriter"
   ]
  },
  {
   "cell_type": "code",
   "execution_count": 2,
   "id": "4ff75afa",
   "metadata": {},
   "outputs": [],
   "source": [
    "scene_id = 30\n",
    "path_to_scene_camera_json = \"tests/test_data/bop_data/obj_of_interest/train_pbr/000000/scene_camera.json\"\n",
    "path_to_camera_json = \"tests/test_data/bop_data/obj_of_interest/camera.json\"\n",
    "output_path = \"tests/test_data\"\n",
    "\n",
    "camera_parameters = utils.get_camera_parameters_from_blenderproc_bopwriter(scene_id,\n",
    "                                                                           path_to_scene_camera_json,\n",
    "                                                                           path_to_camera_json,\n",
    "                                                                           output_path)"
   ]
  },
  {
   "cell_type": "markdown",
   "id": "9e89b24a",
   "metadata": {},
   "source": [
    "## Load target RGB-D image"
   ]
  },
  {
   "cell_type": "code",
   "execution_count": 8,
   "id": "0e662496",
   "metadata": {},
   "outputs": [],
   "source": [
    "camera_parameters = o3d.io.read_pinhole_camera_parameters(\"tests/test_data/camera_parameters.json\")\n",
    "color = f\"tests/test_data/bop_data/obj_of_interest/train_pbr/000000/rgb/000030.png\"\n",
    "depth = f\"tests/test_data/bop_data/obj_of_interest/train_pbr/000000/depth/000030.png\"\n",
    "\n",
    "target_rgbd = utils.convert_rgbd_image_to_point_cloud(rgbd_image_or_path=[color, depth],\n",
    "                                                      camera_intrinsic=camera_parameters.intrinsic,\n",
    "                                                      camera_extrinsic=camera_parameters.extrinsic,\n",
    "                                                      depth_scale=1000.0,\n",
    "                                                      depth_trunc=2.0)\n",
    "\n",
    "o3d.visualization.draw_geometries([target_rgbd])"
   ]
  },
  {
   "cell_type": "markdown",
   "id": "f71dfa7c",
   "metadata": {},
   "source": [
    "## ICP on source and target point cloud"
   ]
  },
  {
   "cell_type": "code",
   "execution_count": 5,
   "id": "392dbfb7",
   "metadata": {},
   "outputs": [
    {
     "name": "stdout",
     "output_type": "stream",
     "text": [
      "0.008391136238148206\n"
     ]
    }
   ],
   "source": [
    "# Load ground truth pose\n",
    "with open(\"tests/test_data/ground_truth_pose.json\") as f:\n",
    "    gt_pose_data = json.load(f)\n",
    "rotation = gt_pose_data[\"rotation_quaternion\"]\n",
    "translation = gt_pose_data[\"translation_xyz\"]\n",
    "gt_pose = utils.get_transformation_matrix_from_quaternion(rotation_wxyz=rotation,\n",
    "                                                          translation_xyz=translation)\n",
    "\n",
    "source_path = \"tests/test_data/suzanne.ply\"\n",
    "source_pcd = utils.eval_data(data=source_path,\n",
    "                             number_of_points=5000)\n",
    "\n",
    "target_path = \"tests/test_data/chair_with_suzanne.ply\"\n",
    "target_pcd = utils.eval_data(data=target_path,\n",
    "                             number_of_points=100000)\n",
    "\n",
    "icp = ICP()\n",
    "init = np.eye(4)\n",
    "init[:3, 3] = [0.1, 0.1, 0.4]\n",
    "result = icp.run(source=source_pcd,\n",
    "                 target=target_pcd,\n",
    "                 init=init,\n",
    "                 max_iteration=100,\n",
    "                 visualize=True)\n",
    "\n",
    "print(np.linalg.norm(gt_pose - result.transformation))"
   ]
  },
  {
   "cell_type": "markdown",
   "id": "180620c8",
   "metadata": {},
   "source": [
    "## ICP on source point cloud and target depth image"
   ]
  },
  {
   "cell_type": "code",
   "execution_count": 6,
   "id": "8749ed61",
   "metadata": {},
   "outputs": [
    {
     "name": "stdout",
     "output_type": "stream",
     "text": [
      "0.06983415464983501\n"
     ]
    }
   ],
   "source": [
    "result = icp.run(source=source_pcd,\n",
    "                 target=target_rgbd,\n",
    "                 init=init,\n",
    "                 max_iteration=100,\n",
    "                 visualize=True)\n",
    "\n",
    "print(np.linalg.norm(gt_pose - result.transformation))"
   ]
  },
  {
   "cell_type": "code",
   "execution_count": null,
   "id": "da1b1445",
   "metadata": {},
   "outputs": [],
   "source": []
  },
  {
   "cell_type": "code",
   "execution_count": null,
   "id": "7f6a7d96",
   "metadata": {},
   "outputs": [],
   "source": []
  }
 ],
 "metadata": {
  "kernelspec": {
   "display_name": "Python 3",
   "language": "python",
   "name": "python3"
  },
  "language_info": {
   "codemirror_mode": {
    "name": "ipython",
    "version": 3
   },
   "file_extension": ".py",
   "mimetype": "text/x-python",
   "name": "python",
   "nbconvert_exporter": "python",
   "pygments_lexer": "ipython3",
   "version": "3.8.8"
  }
 },
 "nbformat": 4,
 "nbformat_minor": 5
}
